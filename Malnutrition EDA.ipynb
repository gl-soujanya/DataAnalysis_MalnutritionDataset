{
 "cells": [
  {
   "cell_type": "code",
   "execution_count": 2,
   "metadata": {},
   "outputs": [],
   "source": [
    "import pandas as pd\n",
    "import seaborn as sns\n",
    "import matplotlib.pyplot as plt"
   ]
  },
  {
   "cell_type": "code",
   "execution_count": 3,
   "metadata": {},
   "outputs": [],
   "source": [
    "df_01 = pd.read_csv('country-wise-average.csv')\n",
    "df_02 = pd.read_csv('malnutrition-estimates.csv')"
   ]
  },
  {
   "cell_type": "code",
   "execution_count": 4,
   "metadata": {},
   "outputs": [
    {
     "data": {
      "text/html": [
       "<div>\n",
       "<style scoped>\n",
       "    .dataframe tbody tr th:only-of-type {\n",
       "        vertical-align: middle;\n",
       "    }\n",
       "\n",
       "    .dataframe tbody tr th {\n",
       "        vertical-align: top;\n",
       "    }\n",
       "\n",
       "    .dataframe thead th {\n",
       "        text-align: right;\n",
       "    }\n",
       "</style>\n",
       "<table border=\"1\" class=\"dataframe\">\n",
       "  <thead>\n",
       "    <tr style=\"text-align: right;\">\n",
       "      <th></th>\n",
       "      <th>Country</th>\n",
       "      <th>Income Classification</th>\n",
       "      <th>Severe Wasting</th>\n",
       "      <th>Wasting</th>\n",
       "      <th>Overweight</th>\n",
       "      <th>Stunting</th>\n",
       "      <th>Underweight</th>\n",
       "      <th>U5 Population ('000s)</th>\n",
       "    </tr>\n",
       "  </thead>\n",
       "  <tbody>\n",
       "    <tr>\n",
       "      <th>0</th>\n",
       "      <td>AFGHANISTAN</td>\n",
       "      <td>0.0</td>\n",
       "      <td>3.033333</td>\n",
       "      <td>10.350000</td>\n",
       "      <td>5.125000</td>\n",
       "      <td>47.775000</td>\n",
       "      <td>30.375000</td>\n",
       "      <td>4918.561500</td>\n",
       "    </tr>\n",
       "    <tr>\n",
       "      <th>1</th>\n",
       "      <td>ALBANIA</td>\n",
       "      <td>2.0</td>\n",
       "      <td>4.075000</td>\n",
       "      <td>7.760000</td>\n",
       "      <td>20.800000</td>\n",
       "      <td>24.160000</td>\n",
       "      <td>7.700000</td>\n",
       "      <td>232.859800</td>\n",
       "    </tr>\n",
       "    <tr>\n",
       "      <th>2</th>\n",
       "      <td>ALGERIA</td>\n",
       "      <td>2.0</td>\n",
       "      <td>2.733333</td>\n",
       "      <td>5.942857</td>\n",
       "      <td>12.833333</td>\n",
       "      <td>19.571429</td>\n",
       "      <td>7.342857</td>\n",
       "      <td>3565.213143</td>\n",
       "    </tr>\n",
       "    <tr>\n",
       "      <th>3</th>\n",
       "      <td>ANGOLA</td>\n",
       "      <td>1.0</td>\n",
       "      <td>2.400000</td>\n",
       "      <td>6.933333</td>\n",
       "      <td>2.550000</td>\n",
       "      <td>42.633333</td>\n",
       "      <td>23.600000</td>\n",
       "      <td>3980.054000</td>\n",
       "    </tr>\n",
       "    <tr>\n",
       "      <th>4</th>\n",
       "      <td>ARGENTINA</td>\n",
       "      <td>2.0</td>\n",
       "      <td>0.200000</td>\n",
       "      <td>2.150000</td>\n",
       "      <td>11.125000</td>\n",
       "      <td>10.025000</td>\n",
       "      <td>2.600000</td>\n",
       "      <td>3613.651750</td>\n",
       "    </tr>\n",
       "  </tbody>\n",
       "</table>\n",
       "</div>"
      ],
      "text/plain": [
       "       Country  Income Classification  Severe Wasting    Wasting  Overweight  \\\n",
       "0  AFGHANISTAN                    0.0        3.033333  10.350000    5.125000   \n",
       "1      ALBANIA                    2.0        4.075000   7.760000   20.800000   \n",
       "2      ALGERIA                    2.0        2.733333   5.942857   12.833333   \n",
       "3       ANGOLA                    1.0        2.400000   6.933333    2.550000   \n",
       "4    ARGENTINA                    2.0        0.200000   2.150000   11.125000   \n",
       "\n",
       "    Stunting  Underweight  U5 Population ('000s)  \n",
       "0  47.775000    30.375000            4918.561500  \n",
       "1  24.160000     7.700000             232.859800  \n",
       "2  19.571429     7.342857            3565.213143  \n",
       "3  42.633333    23.600000            3980.054000  \n",
       "4  10.025000     2.600000            3613.651750  "
      ]
     },
     "execution_count": 4,
     "metadata": {},
     "output_type": "execute_result"
    }
   ],
   "source": [
    "df_01.head()"
   ]
  },
  {
   "cell_type": "code",
   "execution_count": 84,
   "metadata": {},
   "outputs": [
    {
     "data": {
      "text/html": [
       "<div>\n",
       "<style scoped>\n",
       "    .dataframe tbody tr th:only-of-type {\n",
       "        vertical-align: middle;\n",
       "    }\n",
       "\n",
       "    .dataframe tbody tr th {\n",
       "        vertical-align: top;\n",
       "    }\n",
       "\n",
       "    .dataframe thead th {\n",
       "        text-align: right;\n",
       "    }\n",
       "</style>\n",
       "<table border=\"1\" class=\"dataframe\">\n",
       "  <thead>\n",
       "    <tr style=\"text-align: right;\">\n",
       "      <th></th>\n",
       "      <th>Unnamed: 0</th>\n",
       "      <th>ISO code</th>\n",
       "      <th>Country</th>\n",
       "      <th>Survey Year</th>\n",
       "      <th>Year</th>\n",
       "      <th>Income Classification</th>\n",
       "      <th>LDC</th>\n",
       "      <th>LIFD</th>\n",
       "      <th>LLDC or SID2</th>\n",
       "      <th>Survey Sample (N)</th>\n",
       "      <th>Severe Wasting</th>\n",
       "      <th>Wasting</th>\n",
       "      <th>Overweight</th>\n",
       "      <th>Stunting</th>\n",
       "      <th>Underweight</th>\n",
       "      <th>Notes</th>\n",
       "      <th>Report Author</th>\n",
       "      <th>Source</th>\n",
       "      <th>Short Source</th>\n",
       "      <th>U5 Population ('000s)</th>\n",
       "    </tr>\n",
       "  </thead>\n",
       "  <tbody>\n",
       "    <tr>\n",
       "      <th>0</th>\n",
       "      <td>0</td>\n",
       "      <td>AFG</td>\n",
       "      <td>AFGHANISTAN</td>\n",
       "      <td>1997</td>\n",
       "      <td>1997</td>\n",
       "      <td>0</td>\n",
       "      <td>1.0</td>\n",
       "      <td>1.0</td>\n",
       "      <td>1.0</td>\n",
       "      <td>4,846</td>\n",
       "      <td>NaN</td>\n",
       "      <td>18.2</td>\n",
       "      <td>6.5</td>\n",
       "      <td>53.2</td>\n",
       "      <td>44.9</td>\n",
       "      <td>Converted estimates</td>\n",
       "      <td>CIET International</td>\n",
       "      <td>Afghanistan 1997 multiple indicator baseline (...</td>\n",
       "      <td>MICS</td>\n",
       "      <td>3838.877</td>\n",
       "    </tr>\n",
       "    <tr>\n",
       "      <th>1</th>\n",
       "      <td>1</td>\n",
       "      <td>AFG</td>\n",
       "      <td>AFGHANISTAN</td>\n",
       "      <td>2004</td>\n",
       "      <td>2004</td>\n",
       "      <td>0</td>\n",
       "      <td>1.0</td>\n",
       "      <td>1.0</td>\n",
       "      <td>1.0</td>\n",
       "      <td>946</td>\n",
       "      <td>3.5</td>\n",
       "      <td>8.6</td>\n",
       "      <td>4.6</td>\n",
       "      <td>59.3</td>\n",
       "      <td>32.9</td>\n",
       "      <td>NaN</td>\n",
       "      <td>Ministry of Public Health (Afghanistan), UNICE...</td>\n",
       "      <td>Summary report of the national nutrition surve...</td>\n",
       "      <td>NNS</td>\n",
       "      <td>4789.353</td>\n",
       "    </tr>\n",
       "    <tr>\n",
       "      <th>2</th>\n",
       "      <td>2</td>\n",
       "      <td>AFG</td>\n",
       "      <td>AFGHANISTAN</td>\n",
       "      <td>2013</td>\n",
       "      <td>2013</td>\n",
       "      <td>0</td>\n",
       "      <td>1.0</td>\n",
       "      <td>1.0</td>\n",
       "      <td>1.0</td>\n",
       "      <td>44,26,469</td>\n",
       "      <td>4.0</td>\n",
       "      <td>9.5</td>\n",
       "      <td>5.3</td>\n",
       "      <td>40.4</td>\n",
       "      <td>24.6</td>\n",
       "      <td>NaN</td>\n",
       "      <td>Ministry of Public Health, UNICEF and the Aga ...</td>\n",
       "      <td>Afghanistan National Nutrition Survey 2013.</td>\n",
       "      <td>SMART</td>\n",
       "      <td>5444.573</td>\n",
       "    </tr>\n",
       "    <tr>\n",
       "      <th>3</th>\n",
       "      <td>3</td>\n",
       "      <td>AFG</td>\n",
       "      <td>AFGHANISTAN</td>\n",
       "      <td>2018</td>\n",
       "      <td>2018</td>\n",
       "      <td>0</td>\n",
       "      <td>1.0</td>\n",
       "      <td>1.0</td>\n",
       "      <td>1.0</td>\n",
       "      <td>NaN</td>\n",
       "      <td>1.6</td>\n",
       "      <td>5.1</td>\n",
       "      <td>4.1</td>\n",
       "      <td>38.2</td>\n",
       "      <td>19.1</td>\n",
       "      <td>NaN</td>\n",
       "      <td>KIT Royal Tropical Institute</td>\n",
       "      <td>Afghanistan Health Survey 2018</td>\n",
       "      <td>Other</td>\n",
       "      <td>5601.443</td>\n",
       "    </tr>\n",
       "    <tr>\n",
       "      <th>4</th>\n",
       "      <td>4</td>\n",
       "      <td>ALB</td>\n",
       "      <td>ALBANIA</td>\n",
       "      <td>1996-98</td>\n",
       "      <td>1997</td>\n",
       "      <td>2</td>\n",
       "      <td>0.0</td>\n",
       "      <td>0.0</td>\n",
       "      <td>0.0</td>\n",
       "      <td>7,642</td>\n",
       "      <td>NaN</td>\n",
       "      <td>8.1</td>\n",
       "      <td>9.5</td>\n",
       "      <td>20.4</td>\n",
       "      <td>7.1</td>\n",
       "      <td>Converted estimates</td>\n",
       "      <td>Institute of Public Health, Food and Nutrition...</td>\n",
       "      <td>National study on nutrition in Albania. Instit...</td>\n",
       "      <td>Other</td>\n",
       "      <td>309.225</td>\n",
       "    </tr>\n",
       "  </tbody>\n",
       "</table>\n",
       "</div>"
      ],
      "text/plain": [
       "   Unnamed: 0 ISO code      Country Survey Year  Year  Income Classification  \\\n",
       "0           0      AFG  AFGHANISTAN        1997  1997                      0   \n",
       "1           1      AFG  AFGHANISTAN        2004  2004                      0   \n",
       "2           2      AFG  AFGHANISTAN        2013  2013                      0   \n",
       "3           3      AFG  AFGHANISTAN        2018  2018                      0   \n",
       "4           4      ALB      ALBANIA     1996-98  1997                      2   \n",
       "\n",
       "   LDC  LIFD  LLDC or SID2 Survey Sample (N)  Severe Wasting  Wasting  \\\n",
       "0  1.0   1.0           1.0             4,846             NaN     18.2   \n",
       "1  1.0   1.0           1.0               946             3.5      8.6   \n",
       "2  1.0   1.0           1.0         44,26,469             4.0      9.5   \n",
       "3  1.0   1.0           1.0               NaN             1.6      5.1   \n",
       "4  0.0   0.0           0.0             7,642             NaN      8.1   \n",
       "\n",
       "   Overweight  Stunting  Underweight                Notes  \\\n",
       "0         6.5      53.2         44.9  Converted estimates   \n",
       "1         4.6      59.3         32.9                  NaN   \n",
       "2         5.3      40.4         24.6                  NaN   \n",
       "3         4.1      38.2         19.1                  NaN   \n",
       "4         9.5      20.4          7.1  Converted estimates   \n",
       "\n",
       "                                       Report Author  \\\n",
       "0                                 CIET International   \n",
       "1  Ministry of Public Health (Afghanistan), UNICE...   \n",
       "2  Ministry of Public Health, UNICEF and the Aga ...   \n",
       "3                       KIT Royal Tropical Institute   \n",
       "4  Institute of Public Health, Food and Nutrition...   \n",
       "\n",
       "                                              Source Short Source  \\\n",
       "0  Afghanistan 1997 multiple indicator baseline (...         MICS   \n",
       "1  Summary report of the national nutrition surve...          NNS   \n",
       "2        Afghanistan National Nutrition Survey 2013.        SMART   \n",
       "3                     Afghanistan Health Survey 2018        Other   \n",
       "4  National study on nutrition in Albania. Instit...        Other   \n",
       "\n",
       "   U5 Population ('000s)  \n",
       "0               3838.877  \n",
       "1               4789.353  \n",
       "2               5444.573  \n",
       "3               5601.443  \n",
       "4                309.225  "
      ]
     },
     "execution_count": 84,
     "metadata": {},
     "output_type": "execute_result"
    }
   ],
   "source": [
    "df_02.head()"
   ]
  },
  {
   "cell_type": "code",
   "execution_count": 10,
   "metadata": {},
   "outputs": [
    {
     "data": {
      "text/html": [
       "<div>\n",
       "<style scoped>\n",
       "    .dataframe tbody tr th:only-of-type {\n",
       "        vertical-align: middle;\n",
       "    }\n",
       "\n",
       "    .dataframe tbody tr th {\n",
       "        vertical-align: top;\n",
       "    }\n",
       "\n",
       "    .dataframe thead th {\n",
       "        text-align: right;\n",
       "    }\n",
       "</style>\n",
       "<table border=\"1\" class=\"dataframe\">\n",
       "  <thead>\n",
       "    <tr style=\"text-align: right;\">\n",
       "      <th></th>\n",
       "      <th>Income Classification</th>\n",
       "      <th>Severe Wasting</th>\n",
       "      <th>Wasting</th>\n",
       "      <th>Overweight</th>\n",
       "      <th>Stunting</th>\n",
       "      <th>Underweight</th>\n",
       "      <th>U5 Population ('000s)</th>\n",
       "    </tr>\n",
       "  </thead>\n",
       "  <tbody>\n",
       "    <tr>\n",
       "      <th>count</th>\n",
       "      <td>152.000000</td>\n",
       "      <td>140.000000</td>\n",
       "      <td>150.000000</td>\n",
       "      <td>149.000000</td>\n",
       "      <td>151.000000</td>\n",
       "      <td>150.000000</td>\n",
       "      <td>152.000000</td>\n",
       "    </tr>\n",
       "    <tr>\n",
       "      <th>mean</th>\n",
       "      <td>1.427632</td>\n",
       "      <td>2.168650</td>\n",
       "      <td>6.599257</td>\n",
       "      <td>7.201638</td>\n",
       "      <td>25.814728</td>\n",
       "      <td>13.503047</td>\n",
       "      <td>4042.927052</td>\n",
       "    </tr>\n",
       "    <tr>\n",
       "      <th>std</th>\n",
       "      <td>0.967019</td>\n",
       "      <td>1.708939</td>\n",
       "      <td>4.481723</td>\n",
       "      <td>4.649144</td>\n",
       "      <td>14.686807</td>\n",
       "      <td>10.895839</td>\n",
       "      <td>13164.191927</td>\n",
       "    </tr>\n",
       "    <tr>\n",
       "      <th>min</th>\n",
       "      <td>0.000000</td>\n",
       "      <td>0.000000</td>\n",
       "      <td>0.000000</td>\n",
       "      <td>0.962500</td>\n",
       "      <td>1.000000</td>\n",
       "      <td>0.100000</td>\n",
       "      <td>1.000000</td>\n",
       "    </tr>\n",
       "    <tr>\n",
       "      <th>25%</th>\n",
       "      <td>1.000000</td>\n",
       "      <td>0.900000</td>\n",
       "      <td>3.262500</td>\n",
       "      <td>3.850000</td>\n",
       "      <td>13.485000</td>\n",
       "      <td>4.305000</td>\n",
       "      <td>241.765813</td>\n",
       "    </tr>\n",
       "    <tr>\n",
       "      <th>50%</th>\n",
       "      <td>1.000000</td>\n",
       "      <td>1.872500</td>\n",
       "      <td>5.710714</td>\n",
       "      <td>6.300000</td>\n",
       "      <td>24.160000</td>\n",
       "      <td>10.380000</td>\n",
       "      <td>981.233486</td>\n",
       "    </tr>\n",
       "    <tr>\n",
       "      <th>75%</th>\n",
       "      <td>2.000000</td>\n",
       "      <td>2.822727</td>\n",
       "      <td>8.740476</td>\n",
       "      <td>9.080000</td>\n",
       "      <td>36.564935</td>\n",
       "      <td>19.496875</td>\n",
       "      <td>3002.433080</td>\n",
       "    </tr>\n",
       "    <tr>\n",
       "      <th>max</th>\n",
       "      <td>3.000000</td>\n",
       "      <td>11.400000</td>\n",
       "      <td>23.650000</td>\n",
       "      <td>26.500000</td>\n",
       "      <td>57.600000</td>\n",
       "      <td>46.266667</td>\n",
       "      <td>123014.491000</td>\n",
       "    </tr>\n",
       "  </tbody>\n",
       "</table>\n",
       "</div>"
      ],
      "text/plain": [
       "       Income Classification  Severe Wasting     Wasting  Overweight  \\\n",
       "count             152.000000      140.000000  150.000000  149.000000   \n",
       "mean                1.427632        2.168650    6.599257    7.201638   \n",
       "std                 0.967019        1.708939    4.481723    4.649144   \n",
       "min                 0.000000        0.000000    0.000000    0.962500   \n",
       "25%                 1.000000        0.900000    3.262500    3.850000   \n",
       "50%                 1.000000        1.872500    5.710714    6.300000   \n",
       "75%                 2.000000        2.822727    8.740476    9.080000   \n",
       "max                 3.000000       11.400000   23.650000   26.500000   \n",
       "\n",
       "         Stunting  Underweight  U5 Population ('000s)  \n",
       "count  151.000000   150.000000             152.000000  \n",
       "mean    25.814728    13.503047            4042.927052  \n",
       "std     14.686807    10.895839           13164.191927  \n",
       "min      1.000000     0.100000               1.000000  \n",
       "25%     13.485000     4.305000             241.765813  \n",
       "50%     24.160000    10.380000             981.233486  \n",
       "75%     36.564935    19.496875            3002.433080  \n",
       "max     57.600000    46.266667          123014.491000  "
      ]
     },
     "execution_count": 10,
     "metadata": {},
     "output_type": "execute_result"
    }
   ],
   "source": [
    "df_01.describe()"
   ]
  },
  {
   "cell_type": "code",
   "execution_count": 18,
   "metadata": {},
   "outputs": [
    {
     "data": {
      "text/plain": [
       "(152, 8)"
      ]
     },
     "execution_count": 18,
     "metadata": {},
     "output_type": "execute_result"
    }
   ],
   "source": [
    "df_01.shape"
   ]
  },
  {
   "cell_type": "code",
   "execution_count": 11,
   "metadata": {},
   "outputs": [
    {
     "name": "stdout",
     "output_type": "stream",
     "text": [
      "<class 'pandas.core.frame.DataFrame'>\n",
      "RangeIndex: 152 entries, 0 to 151\n",
      "Data columns (total 8 columns):\n",
      " #   Column                 Non-Null Count  Dtype  \n",
      "---  ------                 --------------  -----  \n",
      " 0   Country                152 non-null    object \n",
      " 1   Income Classification  152 non-null    float64\n",
      " 2   Severe Wasting         140 non-null    float64\n",
      " 3   Wasting                150 non-null    float64\n",
      " 4   Overweight             149 non-null    float64\n",
      " 5   Stunting               151 non-null    float64\n",
      " 6   Underweight            150 non-null    float64\n",
      " 7   U5 Population ('000s)  152 non-null    float64\n",
      "dtypes: float64(7), object(1)\n",
      "memory usage: 9.6+ KB\n"
     ]
    }
   ],
   "source": [
    "df_01.info()"
   ]
  },
  {
   "cell_type": "code",
   "execution_count": 30,
   "metadata": {},
   "outputs": [
    {
     "data": {
      "text/plain": [
       "Country                  False\n",
       "Income Classification    False\n",
       "Severe Wasting            True\n",
       "Wasting                   True\n",
       "Overweight                True\n",
       "Stunting                  True\n",
       "Underweight               True\n",
       "U5 Population ('000s)    False\n",
       "dtype: bool"
      ]
     },
     "execution_count": 30,
     "metadata": {},
     "output_type": "execute_result"
    }
   ],
   "source": [
    "df_01.isna().any()"
   ]
  },
  {
   "cell_type": "code",
   "execution_count": 4,
   "metadata": {},
   "outputs": [
    {
     "name": "stdout",
     "output_type": "stream",
     "text": [
      "Severe Wasting nulls - 12\n",
      "Wasting nulls - 2\n",
      "Overweight nulls - 3\n",
      "Stunting nulls - 1\n",
      "Underweight nulls - 2\n"
     ]
    },
    {
     "data": {
      "text/plain": [
       "Country                  False\n",
       "Income Classification    False\n",
       "Severe Wasting           False\n",
       "Wasting                  False\n",
       "Overweight               False\n",
       "Stunting                 False\n",
       "Underweight              False\n",
       "U5 Population ('000s)    False\n",
       "dtype: bool"
      ]
     },
     "execution_count": 4,
     "metadata": {},
     "output_type": "execute_result"
    }
   ],
   "source": [
    "for column in df_01.columns:\n",
    "    if (df_01[column].isna().sum() > 0):\n",
    "        print(f'{column} nulls - {df_01[column].isna().sum()}')\n",
    "        df_01[column] = df_01[column].fillna(df_01[column].mean())\n",
    "df_01.isna().any()"
   ]
  },
  {
   "cell_type": "code",
   "execution_count": 5,
   "metadata": {},
   "outputs": [
    {
     "name": "stdout",
     "output_type": "stream",
     "text": [
      "Survey Sample (N) nulls - 63\n",
      "Severe Wasting nulls - 228\n",
      "Wasting nulls - 47\n",
      "Overweight nulls - 136\n",
      "Stunting nulls - 37\n",
      "Underweight nulls - 22\n",
      "Notes nulls - 597\n"
     ]
    },
    {
     "data": {
      "text/plain": [
       "Unnamed: 0               False\n",
       "ISO code                 False\n",
       "Country                  False\n",
       "Survey Year              False\n",
       "Year                     False\n",
       "Income Classification    False\n",
       "LDC                      False\n",
       "LIFD                     False\n",
       "LLDC or SID2             False\n",
       "Survey Sample (N)         True\n",
       "Severe Wasting            True\n",
       "Wasting                   True\n",
       "Overweight                True\n",
       "Stunting                  True\n",
       "Underweight               True\n",
       "Notes                     True\n",
       "Report Author            False\n",
       "Source                   False\n",
       "Short Source             False\n",
       "U5 Population ('000s)    False\n",
       "dtype: bool"
      ]
     },
     "execution_count": 5,
     "metadata": {},
     "output_type": "execute_result"
    }
   ],
   "source": [
    "for column in df_02.columns:\n",
    "    if (df_02[column].isna().sum() > 0):\n",
    "        print(f'{column} nulls - {df_02[column].isna().sum()}')\n",
    "        #df_02[column] = df_02[column].fillna(df_02[column].mean())\n",
    "df_02.isna().any()"
   ]
  },
  {
   "cell_type": "code",
   "execution_count": 4,
   "metadata": {},
   "outputs": [
    {
     "name": "stdout",
     "output_type": "stream",
     "text": [
      "<class 'pandas.core.frame.DataFrame'>\n",
      "RangeIndex: 152 entries, 0 to 151\n",
      "Data columns (total 8 columns):\n",
      " #   Column                 Non-Null Count  Dtype  \n",
      "---  ------                 --------------  -----  \n",
      " 0   Country                152 non-null    object \n",
      " 1   Income Classification  152 non-null    float64\n",
      " 2   Severe Wasting         140 non-null    float64\n",
      " 3   Wasting                150 non-null    float64\n",
      " 4   Overweight             149 non-null    float64\n",
      " 5   Stunting               151 non-null    float64\n",
      " 6   Underweight            150 non-null    float64\n",
      " 7   UnderFivePopulation    152 non-null    float64\n",
      "dtypes: float64(7), object(1)\n",
      "memory usage: 9.6+ KB\n"
     ]
    }
   ],
   "source": [
    "df_01.rename(columns = {\"U5 Population ('000s)\":'UnderFivePopulation'}, inplace = True)\n",
    "df_01.info()"
   ]
  },
  {
   "cell_type": "code",
   "execution_count": 7,
   "metadata": {},
   "outputs": [
    {
     "data": {
      "image/png": "[encoded data removed]",
      "text/plain": [
       "<Figure size 504x504 with 6 Axes>"
      ]
     },
     "metadata": {
      "needs_background": "light"
     },
     "output_type": "display_data"
    }
   ],
   "source": [
    "f, axes = plt.subplots(2, 3, figsize=(7, 7), sharex=True)\n",
    "sns.despine(left=True)\n",
    "sns.distplot(df_01[\"Severe Wasting\"].dropna(), kde=False, bins = 5, ax=axes[0,0]);\n",
    "sns.distplot(df_01[\"Wasting\"].dropna(), kde=False, bins = 10, ax=axes[0,1]);\n",
    "sns.distplot(df_01[\"Overweight\"].dropna(), kde=False, bins = 10, ax=axes[0,2]);\n",
    "sns.distplot(df_01[\"Stunting\"].dropna(), kde=False, bins = 10, ax=axes[1,0]);\n",
    "sns.distplot(df_01[\"Underweight\"].dropna(), kde=False, bins = 10, ax=axes[1,1]);\n",
    "#sns.distplot(df_01[\"UnderFivePopulation\"].dropna(), kde=False, bins = 20, ax=axes[1,2]);"
   ]
  },
  {
   "cell_type": "code",
   "execution_count": 50,
   "metadata": {},
   "outputs": [
    {
     "data": {
      "text/plain": [
       "<matplotlib.axes._subplots.AxesSubplot at 0x1d0a66b4148>"
      ]
     },
     "execution_count": 50,
     "metadata": {},
     "output_type": "execute_result"
    },
    {
     "data": {
      "image/png": "[encoded data removed]",
      "text/plain": [
       "<Figure size 432x288 with 1 Axes>"
      ]
     },
     "metadata": {
      "needs_background": "light"
     },
     "output_type": "display_data"
    }
   ],
   "source": [
    "df_01.boxplot(column=['Severe Wasting', 'Wasting', 'Overweight', 'Stunting', 'Underweight'])"
   ]
  },
  {
   "cell_type": "code",
   "execution_count": 54,
   "metadata": {},
   "outputs": [
    {
     "data": {
      "text/plain": [
       "array([0., 2., 1., 3.])"
      ]
     },
     "execution_count": 54,
     "metadata": {},
     "output_type": "execute_result"
    }
   ],
   "source": [
    "df_01[\"Income Classification\"].unique()"
   ]
  },
  {
   "cell_type": "code",
   "execution_count": 65,
   "metadata": {},
   "outputs": [
    {
     "data": {
      "image/png": "[encoded data removed]",
      "text/plain": [
       "<Figure size 432x288 with 2 Axes>"
      ]
     },
     "metadata": {
      "needs_background": "light"
     },
     "output_type": "display_data"
    }
   ],
   "source": [
    "df = pd.DataFrame(df_01,columns=['Income Classification', 'Severe Wasting', 'Wasting', 'Overweight', 'Stunting', 'Underweight'])\n",
    "\n",
    "corrMatrix = df.corr()\n",
    "sns.heatmap(corrMatrix, annot=True)\n",
    "plt.show()"
   ]
  },
  {
   "cell_type": "code",
   "execution_count": 94,
   "metadata": {},
   "outputs": [
    {
     "data": {
      "text/html": [
       "<div>\n",
       "<style scoped>\n",
       "    .dataframe tbody tr th:only-of-type {\n",
       "        vertical-align: middle;\n",
       "    }\n",
       "\n",
       "    .dataframe tbody tr th {\n",
       "        vertical-align: top;\n",
       "    }\n",
       "\n",
       "    .dataframe thead th {\n",
       "        text-align: right;\n",
       "    }\n",
       "</style>\n",
       "<table border=\"1\" class=\"dataframe\">\n",
       "  <thead>\n",
       "    <tr style=\"text-align: right;\">\n",
       "      <th></th>\n",
       "      <th>Country</th>\n",
       "      <th>Income Classification</th>\n",
       "      <th>Severe Wasting</th>\n",
       "      <th>Wasting</th>\n",
       "      <th>Overweight</th>\n",
       "      <th>Stunting</th>\n",
       "      <th>Underweight</th>\n",
       "      <th>U5 Population ('000s)</th>\n",
       "    </tr>\n",
       "  </thead>\n",
       "  <tbody>\n",
       "    <tr>\n",
       "      <th>124</th>\n",
       "      <td>SOUTH SUDAN</td>\n",
       "      <td>0.0</td>\n",
       "      <td>11.4</td>\n",
       "      <td>23.65</td>\n",
       "      <td>8.45</td>\n",
       "      <td>33.75</td>\n",
       "      <td>30.1</td>\n",
       "      <td>1459.2625</td>\n",
       "    </tr>\n",
       "  </tbody>\n",
       "</table>\n",
       "</div>"
      ],
      "text/plain": [
       "         Country  Income Classification  Severe Wasting  Wasting  Overweight  \\\n",
       "124  SOUTH SUDAN                    0.0            11.4    23.65        8.45   \n",
       "\n",
       "     Stunting  Underweight  U5 Population ('000s)  \n",
       "124     33.75         30.1              1459.2625  "
      ]
     },
     "execution_count": 94,
     "metadata": {},
     "output_type": "execute_result"
    }
   ],
   "source": [
    "df_01[df_01.Wasting == df_01.Wasting.max()]\n",
    "#df_01[df_01.Overweight == df_01.Overweight.max()]"
   ]
  },
  {
   "cell_type": "code",
   "execution_count": 92,
   "metadata": {},
   "outputs": [
    {
     "data": {
      "text/html": [
       "<div>\n",
       "<style scoped>\n",
       "    .dataframe tbody tr th:only-of-type {\n",
       "        vertical-align: middle;\n",
       "    }\n",
       "\n",
       "    .dataframe tbody tr th {\n",
       "        vertical-align: top;\n",
       "    }\n",
       "\n",
       "    .dataframe thead th {\n",
       "        text-align: right;\n",
       "    }\n",
       "</style>\n",
       "<table border=\"1\" class=\"dataframe\">\n",
       "  <thead>\n",
       "    <tr style=\"text-align: right;\">\n",
       "      <th></th>\n",
       "      <th>Unnamed: 0</th>\n",
       "      <th>ISO code</th>\n",
       "      <th>Country</th>\n",
       "      <th>Survey Year</th>\n",
       "      <th>Year</th>\n",
       "      <th>Income Classification</th>\n",
       "      <th>LDC</th>\n",
       "      <th>LIFD</th>\n",
       "      <th>LLDC or SID2</th>\n",
       "      <th>Survey Sample (N)</th>\n",
       "      <th>Severe Wasting</th>\n",
       "      <th>Wasting</th>\n",
       "      <th>Overweight</th>\n",
       "      <th>Stunting</th>\n",
       "      <th>Underweight</th>\n",
       "      <th>Notes</th>\n",
       "      <th>Report Author</th>\n",
       "      <th>Source</th>\n",
       "      <th>Short Source</th>\n",
       "      <th>U5 Population ('000s)</th>\n",
       "    </tr>\n",
       "  </thead>\n",
       "  <tbody>\n",
       "    <tr>\n",
       "      <th>733</th>\n",
       "      <td>733</td>\n",
       "      <td>SSD</td>\n",
       "      <td>SOUTH SUDAN</td>\n",
       "      <td>2006</td>\n",
       "      <td>2006</td>\n",
       "      <td>0</td>\n",
       "      <td>1.0</td>\n",
       "      <td>1.0</td>\n",
       "      <td>1.0</td>\n",
       "      <td>13,29,786</td>\n",
       "      <td>12.9</td>\n",
       "      <td>24.6</td>\n",
       "      <td>10.9</td>\n",
       "      <td>36.2</td>\n",
       "      <td>32.5</td>\n",
       "      <td>NaN</td>\n",
       "      <td>Government of National Unity and Government of...</td>\n",
       "      <td>Sudan household health survey (SHHS) - 2006. K...</td>\n",
       "      <td>PAPFAM</td>\n",
       "      <td>1335.359</td>\n",
       "    </tr>\n",
       "    <tr>\n",
       "      <th>734</th>\n",
       "      <td>734</td>\n",
       "      <td>SSD</td>\n",
       "      <td>SOUTH SUDAN</td>\n",
       "      <td>2010</td>\n",
       "      <td>2010</td>\n",
       "      <td>0</td>\n",
       "      <td>1.0</td>\n",
       "      <td>1.0</td>\n",
       "      <td>1.0</td>\n",
       "      <td>6,378</td>\n",
       "      <td>9.9</td>\n",
       "      <td>22.7</td>\n",
       "      <td>6.0</td>\n",
       "      <td>31.3</td>\n",
       "      <td>27.7</td>\n",
       "      <td>NaN</td>\n",
       "      <td>Ministry of Health and National Bureau of Stat...</td>\n",
       "      <td>South Sudan Household Survey 2010. Final Repor...</td>\n",
       "      <td>MICS</td>\n",
       "      <td>1583.166</td>\n",
       "    </tr>\n",
       "  </tbody>\n",
       "</table>\n",
       "</div>"
      ],
      "text/plain": [
       "     Unnamed: 0 ISO code      Country Survey Year  Year  \\\n",
       "733         733      SSD  SOUTH SUDAN        2006  2006   \n",
       "734         734      SSD  SOUTH SUDAN        2010  2010   \n",
       "\n",
       "     Income Classification  LDC  LIFD  LLDC or SID2 Survey Sample (N)  \\\n",
       "733                      0  1.0   1.0           1.0         13,29,786   \n",
       "734                      0  1.0   1.0           1.0             6,378   \n",
       "\n",
       "     Severe Wasting  Wasting  Overweight  Stunting  Underweight Notes  \\\n",
       "733            12.9     24.6        10.9      36.2         32.5   NaN   \n",
       "734             9.9     22.7         6.0      31.3         27.7   NaN   \n",
       "\n",
       "                                         Report Author  \\\n",
       "733  Government of National Unity and Government of...   \n",
       "734  Ministry of Health and National Bureau of Stat...   \n",
       "\n",
       "                                                Source Short Source  \\\n",
       "733  Sudan household health survey (SHHS) - 2006. K...       PAPFAM   \n",
       "734  South Sudan Household Survey 2010. Final Repor...         MICS   \n",
       "\n",
       "     U5 Population ('000s)  \n",
       "733               1335.359  \n",
       "734               1583.166  "
      ]
     },
     "execution_count": 92,
     "metadata": {},
     "output_type": "execute_result"
    }
   ],
   "source": [
    "df_02[df_02.Country == \"SOUTH SUDAN\"]"
   ]
  },
  {
   "cell_type": "code",
   "execution_count": 179,
   "metadata": {},
   "outputs": [
    {
     "data": {
      "text/plain": [
       "Index(['DHS', 'MICS', 'Other', 'Surveillance', 'NNS'], dtype='object', name='Short Source')"
      ]
     },
     "execution_count": 179,
     "metadata": {},
     "output_type": "execute_result"
    }
   ],
   "source": [
    "source = df_02[\"Short Source\"].groupby(df_02[\"Short Source\"]).value_counts().sort_values(ascending = False).head()\n",
    "source.values\n",
    "source.index.get_level_values(0)\n",
    "#len(source.values)"
   ]
  },
  {
   "cell_type": "code",
   "execution_count": 180,
   "metadata": {},
   "outputs": [
    {
     "data": {
      "image/png": "[encoded data removed]",
      "text/plain": [
       "<Figure size 432x288 with 1 Axes>"
      ]
     },
     "metadata": {},
     "output_type": "display_data"
    }
   ],
   "source": [
    "explode = [0 for _ in range(len(source.values))]\n",
    "explode[0] = 0.1\n",
    "legend_labels = ['Demographic and Health Survey', 'Multiple Indicator Cluster Survey' , 'Other_Sources', 'Surveillance', 'National Nutrition Survey']\n",
    "plt.pie(source, labels = source.index.get_level_values(0), autopct='%1.1f%%', shadow=True, startangle=0, explode=explode,\n",
    "        colors=sns.color_palette(\"RdGy\", n_colors=5))\n",
    "plt.title('Top sources of survey')\n",
    "plt.axis('equal')\n",
    "plt.legend(legend_labels, loc = \"lower right\", bbox_to_anchor=(1.5,0))\n",
    "plt.show()"
   ]
  },
  {
   "cell_type": "code",
   "execution_count": 187,
   "metadata": {},
   "outputs": [
    {
     "data": {
      "text/plain": [
       "<seaborn.axisgrid.FacetGrid at 0x1d0a8836b08>"
      ]
     },
     "execution_count": 187,
     "metadata": {},
     "output_type": "execute_result"
    },
    {
     "data": {
      "image/png": "[encoded data removed]",
      "text/plain": [
       "<Figure size 360x360 with 1 Axes>"
      ]
     },
     "metadata": {
      "needs_background": "light"
     },
     "output_type": "display_data"
    }
   ],
   "source": [
    "#plt.scatter(df_01[\"Income Classification\"], df_01[\"Overweight\"])\n",
    "sns.lmplot(x=\"Income Classification\", y=\"Overweight\", data=df_01,fit_reg=True) "
   ]
  },
  {
   "cell_type": "code",
   "execution_count": 188,
   "metadata": {},
   "outputs": [
    {
     "data": {
      "text/plain": [
       "<seaborn.axisgrid.FacetGrid at 0x1d0a898d308>"
      ]
     },
     "execution_count": 188,
     "metadata": {},
     "output_type": "execute_result"
    },
    {
     "data": {
      "image/png": "[encoded data removed]",
      "text/plain": [
       "<Figure size 432x288 with 1 Axes>"
      ]
     },
     "metadata": {
      "needs_background": "light"
     },
     "output_type": "display_data"
    },
    {
     "data": {
      "image/png": "[encoded data removed]",
      "text/plain": [
       "<Figure size 360x360 with 1 Axes>"
      ]
     },
     "metadata": {
      "needs_background": "light"
     },
     "output_type": "display_data"
    }
   ],
   "source": [
    "plt.scatter(df_01[\"Income Classification\"], df_01[\"Underweight\"])\n",
    "sns.lmplot(x=\"Income Classification\", y=\"Underweight\", data=df_01,fit_reg=True) "
   ]
  },
  {
   "cell_type": "code",
   "execution_count": 55,
   "metadata": {},
   "outputs": [],
   "source": [
    "#fig, ax = plt.subplots(figsize=(15,7))\n",
    "#df_01.groupby([\"Income Classification\"]).mean()['Overweight'].plot(ax=ax, kind = 'bar')"
   ]
  },
  {
   "cell_type": "code",
   "execution_count": 8,
   "metadata": {},
   "outputs": [
    {
     "data": {
      "text/html": [
       "<div>\n",
       "<style scoped>\n",
       "    .dataframe tbody tr th:only-of-type {\n",
       "        vertical-align: middle;\n",
       "    }\n",
       "\n",
       "    .dataframe tbody tr th {\n",
       "        vertical-align: top;\n",
       "    }\n",
       "\n",
       "    .dataframe thead th {\n",
       "        text-align: right;\n",
       "    }\n",
       "</style>\n",
       "<table border=\"1\" class=\"dataframe\">\n",
       "  <thead>\n",
       "    <tr style=\"text-align: right;\">\n",
       "      <th></th>\n",
       "      <th>Income Classification</th>\n",
       "      <th>Overweight</th>\n",
       "      <th>Stunting</th>\n",
       "      <th>Underweight</th>\n",
       "      <th>Wasting</th>\n",
       "      <th>Severe Wasting</th>\n",
       "    </tr>\n",
       "  </thead>\n",
       "  <tbody>\n",
       "    <tr>\n",
       "      <th>0</th>\n",
       "      <td>0.0</td>\n",
       "      <td>5.125000</td>\n",
       "      <td>47.775000</td>\n",
       "      <td>30.375000</td>\n",
       "      <td>10.350000</td>\n",
       "      <td>3.033333</td>\n",
       "    </tr>\n",
       "    <tr>\n",
       "      <th>1</th>\n",
       "      <td>2.0</td>\n",
       "      <td>20.800000</td>\n",
       "      <td>24.160000</td>\n",
       "      <td>7.700000</td>\n",
       "      <td>7.760000</td>\n",
       "      <td>4.075000</td>\n",
       "    </tr>\n",
       "    <tr>\n",
       "      <th>2</th>\n",
       "      <td>2.0</td>\n",
       "      <td>12.833333</td>\n",
       "      <td>19.571429</td>\n",
       "      <td>7.342857</td>\n",
       "      <td>5.942857</td>\n",
       "      <td>2.733333</td>\n",
       "    </tr>\n",
       "    <tr>\n",
       "      <th>3</th>\n",
       "      <td>1.0</td>\n",
       "      <td>2.550000</td>\n",
       "      <td>42.633333</td>\n",
       "      <td>23.600000</td>\n",
       "      <td>6.933333</td>\n",
       "      <td>2.400000</td>\n",
       "    </tr>\n",
       "    <tr>\n",
       "      <th>4</th>\n",
       "      <td>2.0</td>\n",
       "      <td>11.125000</td>\n",
       "      <td>10.025000</td>\n",
       "      <td>2.600000</td>\n",
       "      <td>2.150000</td>\n",
       "      <td>0.200000</td>\n",
       "    </tr>\n",
       "    <tr>\n",
       "      <th>...</th>\n",
       "      <td>...</td>\n",
       "      <td>...</td>\n",
       "      <td>...</td>\n",
       "      <td>...</td>\n",
       "      <td>...</td>\n",
       "      <td>...</td>\n",
       "    </tr>\n",
       "    <tr>\n",
       "      <th>147</th>\n",
       "      <td>2.0</td>\n",
       "      <td>5.409524</td>\n",
       "      <td>16.957143</td>\n",
       "      <td>4.242857</td>\n",
       "      <td>4.333333</td>\n",
       "      <td>NaN</td>\n",
       "    </tr>\n",
       "    <tr>\n",
       "      <th>148</th>\n",
       "      <td>1.0</td>\n",
       "      <td>3.317647</td>\n",
       "      <td>34.922727</td>\n",
       "      <td>22.918182</td>\n",
       "      <td>8.661905</td>\n",
       "      <td>2.331250</td>\n",
       "    </tr>\n",
       "    <tr>\n",
       "      <th>149</th>\n",
       "      <td>0.0</td>\n",
       "      <td>4.842857</td>\n",
       "      <td>51.900000</td>\n",
       "      <td>37.785714</td>\n",
       "      <td>15.242857</td>\n",
       "      <td>5.300000</td>\n",
       "    </tr>\n",
       "    <tr>\n",
       "      <th>150</th>\n",
       "      <td>1.0</td>\n",
       "      <td>7.228571</td>\n",
       "      <td>48.137500</td>\n",
       "      <td>17.885714</td>\n",
       "      <td>5.542857</td>\n",
       "      <td>2.042857</td>\n",
       "    </tr>\n",
       "    <tr>\n",
       "      <th>151</th>\n",
       "      <td>1.0</td>\n",
       "      <td>5.788889</td>\n",
       "      <td>30.455556</td>\n",
       "      <td>10.710000</td>\n",
       "      <td>4.166667</td>\n",
       "      <td>1.388889</td>\n",
       "    </tr>\n",
       "  </tbody>\n",
       "</table>\n",
       "<p>152 rows × 6 columns</p>\n",
       "</div>"
      ],
      "text/plain": [
       "     Income Classification  Overweight   Stunting  Underweight    Wasting  \\\n",
       "0                      0.0    5.125000  47.775000    30.375000  10.350000   \n",
       "1                      2.0   20.800000  24.160000     7.700000   7.760000   \n",
       "2                      2.0   12.833333  19.571429     7.342857   5.942857   \n",
       "3                      1.0    2.550000  42.633333    23.600000   6.933333   \n",
       "4                      2.0   11.125000  10.025000     2.600000   2.150000   \n",
       "..                     ...         ...        ...          ...        ...   \n",
       "147                    2.0    5.409524  16.957143     4.242857   4.333333   \n",
       "148                    1.0    3.317647  34.922727    22.918182   8.661905   \n",
       "149                    0.0    4.842857  51.900000    37.785714  15.242857   \n",
       "150                    1.0    7.228571  48.137500    17.885714   5.542857   \n",
       "151                    1.0    5.788889  30.455556    10.710000   4.166667   \n",
       "\n",
       "     Severe Wasting  \n",
       "0          3.033333  \n",
       "1          4.075000  \n",
       "2          2.733333  \n",
       "3          2.400000  \n",
       "4          0.200000  \n",
       "..              ...  \n",
       "147             NaN  \n",
       "148        2.331250  \n",
       "149        5.300000  \n",
       "150        2.042857  \n",
       "151        1.388889  \n",
       "\n",
       "[152 rows x 6 columns]"
      ]
     },
     "execution_count": 8,
     "metadata": {},
     "output_type": "execute_result"
    }
   ],
   "source": [
    "df_averages = df_01[['Income Classification', 'Overweight', 'Stunting', 'Underweight', 'Wasting', 'Severe Wasting']].copy()\n",
    "df_averages"
   ]
  },
  {
   "cell_type": "code",
   "execution_count": 9,
   "metadata": {},
   "outputs": [],
   "source": [
    "rule = {0: 'Low Income', 1: 'Lower Middle Income', 2: 'Upper Middle Income', 3: 'High Income'}\n",
    "\n",
    "df_averages['Income Classification'] = df_averages['Income Classification'].replace(rule)\n",
    "\n"
   ]
  },
  {
   "cell_type": "code",
   "execution_count": 10,
   "metadata": {},
   "outputs": [
    {
     "data": {
      "image/png": "[encoded data removed]",
      "text/plain": [
       "<Figure size 432x288 with 1 Axes>"
      ]
     },
     "metadata": {},
     "output_type": "display_data"
    }
   ],
   "source": [
    "df_overweight = df_averages.groupby([\"Income Classification\"]).mean()['Overweight'].reset_index(name='Mean')\n",
    "df_stunting = df_averages.groupby([\"Income Classification\"]).mean()['Stunting'].reset_index(name='Mean')\n",
    "df_underweight = df_averages.groupby([\"Income Classification\"]).mean()['Underweight'].reset_index(name='Mean')\n",
    "df_wasting = df_averages.groupby([\"Income Classification\"]).mean()['Wasting'].reset_index(name='Mean')\n",
    "df_severewasting = df_averages.groupby([\"Income Classification\"]).mean()['Severe Wasting'].reset_index(name='Mean')\n",
    "df_overweight['hue']= 'Overweight'\n",
    "df_stunting['hue']= 'Stunting'\n",
    "df_underweight['hue'] = 'Underweight'\n",
    "df_wasting['hue'] = 'Wasting'\n",
    "df_severewasting['hue'] = 'Severe Wasting'\n",
    "\n",
    "result = pd.concat([df_overweight, df_stunting, df_underweight, df_severewasting, df_wasting])\n",
    "sns.set(style=\"whitegrid\")\n",
    "sns.barplot(x=\"Income Classification\",y='Mean',data=result, hue = 'hue')\n",
    "plt.show()"
   ]
  },
  {
   "cell_type": "code",
   "execution_count": 15,
   "metadata": {},
   "outputs": [
    {
     "data": {
      "image/png": "[encoded data removed]",
      "text/plain": [
       "<Figure size 1440x360 with 1 Axes>"
      ]
     },
     "metadata": {},
     "output_type": "display_data"
    }
   ],
   "source": [
    "df_overweight = df_averages.groupby([\"Income Classification\"]).median()['Overweight'].reset_index(name='Mean')\n",
    "df_stunting = df_averages.groupby([\"Income Classification\"]).median()['Stunting'].reset_index(name='Mean')\n",
    "df_underweight = df_averages.groupby([\"Income Classification\"]).median()['Underweight'].reset_index(name='Mean')\n",
    "df_wasting = df_averages.groupby([\"Income Classification\"]).median()['Wasting'].reset_index(name='Mean')\n",
    "df_severewasting = df_averages.groupby([\"Income Classification\"]).median()['Severe Wasting'].reset_index(name='Mean')\n",
    "df_overweight['hue']= 'Overweight'\n",
    "df_stunting['hue']= 'Stunting'\n",
    "df_underweight['hue'] = 'Underweight'\n",
    "df_wasting['hue'] = 'Wasting'\n",
    "df_severewasting['hue'] = 'Severe Wasting'\n",
    "\n",
    "result = pd.concat([df_overweight, df_stunting, df_underweight, df_severewasting, df_wasting])\n",
    "sns.set(style=\"whitegrid\")\n",
    "plt.figure(figsize=(20,5))\n",
    "ax = sns.barplot(x=\"Income Classification\",y='Mean',data=result, hue = 'hue', order = ['Low Income', 'Lower Middle Income', 'Upper Middle Income', 'High Income'])\n",
    "plt.show()"
   ]
  },
  {
   "cell_type": "code",
   "execution_count": 56,
   "metadata": {},
   "outputs": [
    {
     "data": {
      "text/plain": [
       "Income Classification\n",
       "0.0    4.441425\n",
       "1.0    6.767270\n",
       "2.0    9.060381\n",
       "3.0    7.448086\n",
       "Name: Overweight, dtype: float64"
      ]
     },
     "execution_count": 56,
     "metadata": {},
     "output_type": "execute_result"
    }
   ],
   "source": [
    "df_01.groupby([\"Income Classification\"]).mean()['Overweight']"
   ]
  },
  {
   "cell_type": "code",
   "execution_count": null,
   "metadata": {},
   "outputs": [],
   "source": []
  },
  {
   "cell_type": "code",
   "execution_count": 57,
   "metadata": {},
   "outputs": [
    {
     "data": {
      "text/plain": [
       "Income Classification\n",
       "0.0    3.850000\n",
       "1.0    5.869444\n",
       "2.0    7.510714\n",
       "3.0    7.500000\n",
       "Name: Overweight, dtype: float64"
      ]
     },
     "execution_count": 57,
     "metadata": {},
     "output_type": "execute_result"
    }
   ],
   "source": [
    "df_01.groupby([\"Income Classification\"]).median()['Overweight']"
   ]
  },
  {
   "cell_type": "code",
   "execution_count": null,
   "metadata": {},
   "outputs": [],
   "source": []
  }
 ],
 "metadata": {
  "kernelspec": {
   "display_name": "Python 3",
   "language": "python",
   "name": "python3"
  },
  "language_info": {
   "codemirror_mode": {
    "name": "ipython",
    "version": 3
   },
   "file_extension": ".py",
   "mimetype": "text/x-python",
   "name": "python",
   "nbconvert_exporter": "python",
   "pygments_lexer": "ipython3",
   "version": "3.7.6"
  }
 },
 "nbformat": 4,
 "nbformat_minor": 4
}
